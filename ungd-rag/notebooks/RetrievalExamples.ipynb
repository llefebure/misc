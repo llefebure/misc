{
 "cells": [
  {
   "cell_type": "code",
   "execution_count": 9,
   "metadata": {},
   "outputs": [],
   "source": [
    "import logging\n",
    "import os\n",
    "from langchain.embeddings import OpenAIEmbeddings\n",
    "from langchain.llms import OpenAI\n",
    "from langchain.vectorstores import Qdrant\n",
    "from langchain.retrievers.self_query.base import SelfQueryRetriever\n",
    "from langchain.chains.query_constructor.base import AttributeInfo\n",
    "from langchain.chains import RetrievalQA\n",
    "from qdrant_client import QdrantClient\n",
    "\n",
    "\n",
    "# see what langchain is doing\n",
    "logging.basicConfig(level=logging.DEBUG)\n",
    "logger = logging.getLogger(\"langchain\")"
   ]
  },
  {
   "cell_type": "code",
   "execution_count": 10,
   "metadata": {},
   "outputs": [],
   "source": [
    "openai_api_key = !security find-generic-password -s 'OpenAI API Key' -w\n",
    "os.environ[\"OPENAI_API_KEY\"] = openai_api_key[0]"
   ]
  },
  {
   "cell_type": "code",
   "execution_count": 11,
   "metadata": {},
   "outputs": [
    {
     "name": "stderr",
     "output_type": "stream",
     "text": [
      "DEBUG:httpx:load_ssl_context verify=True cert=None trust_env=True http2=False\n",
      "DEBUG:httpx:load_verify_locations cafile='/Users/lukelefebure/Library/Caches/pypoetry/virtualenvs/ungd-rag-j4EQDb0v-py3.10/lib/python3.10/site-packages/certifi/cacert.pem'\n"
     ]
    }
   ],
   "source": [
    "embeddings_model = OpenAIEmbeddings()\n",
    "llm = OpenAI()\n",
    "client = QdrantClient(\"localhost\", port=6333)"
   ]
  },
  {
   "cell_type": "code",
   "execution_count": 21,
   "metadata": {},
   "outputs": [],
   "source": [
    "db = Qdrant(\n",
    "    client,\n",
    "    collection_name=\"speech_parts_subset\",\n",
    "    embeddings=OpenAIEmbeddings()\n",
    ")\n",
    "retriever = db.as_retriever()\n",
    "qa = RetrievalQA.from_chain_type(llm=OpenAI(), chain_type=\"stuff\", retriever=retriever, return_source_documents=True)"
   ]
  },
  {
   "cell_type": "code",
   "execution_count": 23,
   "metadata": {},
   "outputs": [
    {
     "name": "stderr",
     "output_type": "stream",
     "text": [
      "DEBUG:openai:message='Request to OpenAI API' method=post path=https://api.openai.com/v1/embeddings\n",
      "DEBUG:openai:api_version=None data='{\"input\": [[1264, 5730, 553, 279, 10430, 922, 10182, 2349]], \"model\": \"text-embedding-ada-002\", \"encoding_format\": \"base64\"}' message='Post details'\n",
      "DEBUG:urllib3.util.retry:Converted retries value: 2 -> Retry(total=2, connect=None, read=None, redirect=None, status=None)\n",
      "DEBUG:urllib3.connectionpool:Starting new HTTPS connection (1): api.openai.com:443\n",
      "DEBUG:urllib3.connectionpool:https://api.openai.com:443 \"POST /v1/embeddings HTTP/1.1\" 200 None\n",
      "DEBUG:openai:message='OpenAI API response' path=https://api.openai.com/v1/embeddings processing_ms=50 request_id=ea9a602ff15099acc44bd6bcd166ba70 response_code=200\n",
      "DEBUG:httpcore.connection:connect_tcp.started host='localhost' port=6333 local_address=None timeout=5.0 socket_options=None\n",
      "DEBUG:httpcore.connection:connect_tcp.complete return_value=<httpcore._backends.sync.SyncStream object at 0x11b5d1330>\n",
      "DEBUG:httpcore.http11:send_request_headers.started request=<Request [b'POST']>\n",
      "DEBUG:httpcore.http11:send_request_headers.complete\n",
      "DEBUG:httpcore.http11:send_request_body.started request=<Request [b'POST']>\n",
      "DEBUG:httpcore.http11:send_request_body.complete\n",
      "DEBUG:httpcore.http11:receive_response_headers.started request=<Request [b'POST']>\n",
      "DEBUG:httpcore.http11:receive_response_headers.complete return_value=(b'HTTP/1.1', 200, b'OK', [(b'transfer-encoding', b'chunked'), (b'content-encoding', b'gzip'), (b'vary', b'accept-encoding, Origin, Access-Control-Request-Method, Access-Control-Request-Headers'), (b'content-type', b'application/json'), (b'date', b'Sun, 22 Oct 2023 22:37:44 GMT')])\n",
      "INFO:httpx:HTTP Request: POST http://localhost:6333/collections/speech_parts_subset/points/search \"HTTP/1.1 200 OK\"\n",
      "DEBUG:httpcore.http11:receive_response_body.started request=<Request [b'POST']>\n",
      "DEBUG:httpcore.http11:receive_response_body.complete\n",
      "DEBUG:httpcore.http11:response_closed.started\n",
      "DEBUG:httpcore.http11:response_closed.complete\n",
      "DEBUG:httpcore.connection:close.started\n",
      "DEBUG:httpcore.connection:close.complete\n",
      "DEBUG:openai:message='Request to OpenAI API' method=post path=https://api.openai.com/v1/completions\n",
      "DEBUG:openai:api_version=None data='{\"prompt\": [\"Use the following pieces of context to answer the question at the end. If you don\\'t know the answer, just say that you don\\'t know, don\\'t try to make up an answer.\\\\n\\\\nFrom the day I came to office, we have led with a bold climate agenda. We rejoined the Paris Agreement on Climate Change, convened major climate summits, helped deliver critical agreements on the twenty- sixth Conference of the Parties to the United Nations Framework Convention on Climate Change and helped get two thirds of the world\\\\u2019s gross domestic product on track in order to limit global warming to 1.5\\\\u00b0C.\\\\n\\\\nWe all know that we are already living in a climate crisis. No one seems to doubt it after this past year. As we meet, much of Pakistan is still under water. It needs help. Meanwhile, the Horn of Africa faces unprecedented drought. Families are facing impossible choices, choosing which child to feed and wondering whether they will survive. That is the human cost of climate change \\\\u2014 and it is growing, not lessening.\\\\n\\\\nTherefore, as I announced last year, in order to meet our global responsibility, my Administration is working with our Congress to deliver more than $11 billion a year to international climate financing to help lower- income countries implement their climate goals and ensure a just energy transition. The key part of that will be the President\\\\u2019s Emergency Plan for Adaptation and Resilience plan, which will help half a billion people, especially vulnerable countries, to adapt to the impacts of climate change and build resilience. That need is enormous. Let this therefore be the moment when we find within ourselves the will to turn back the tide of climate devastation and unlock a resilient, sustainable and clean energy economy to preserve our planet.\\\\n\\\\nAnd now I have signed a historic piece of legislation here in the United States that includes the biggest, most important climate commitment we have ever made in the history of our country: $369 billion allocated to climate change. That includes allocating tens of billions of dollars for new investments in offshore wind and solar energy, doubling down on zero-emission vehicles, increasing energy efficiency and supporting clean manufacturing.\\\\n\\\\nQuestion: summarize the discussion about climate change\\\\nHelpful Answer:\"], \"model\": \"text-davinci-003\", \"temperature\": 0.7, \"max_tokens\": 256, \"top_p\": 1, \"frequency_penalty\": 0, \"presence_penalty\": 0, \"n\": 1, \"logit_bias\": {}}' message='Post details'\n",
      "DEBUG:urllib3.connectionpool:https://api.openai.com:443 \"POST /v1/completions HTTP/1.1\" 200 None\n",
      "DEBUG:openai:message='OpenAI API response' path=https://api.openai.com/v1/completions processing_ms=1454 request_id=3a0df72b7e6e9dbff06e620b27c6554d response_code=200\n"
     ]
    }
   ],
   "source": [
    "response = qa(\"summarize the discussion about climate change\")"
   ]
  },
  {
   "cell_type": "code",
   "execution_count": 17,
   "metadata": {},
   "outputs": [],
   "source": [
    "# schema\n",
    "metadata_field_info=[\n",
    "    AttributeInfo(\n",
    "        name=\"country\",\n",
    "        description=\"The country of the speaker\", \n",
    "        type=\"string\", \n",
    "    ),\n",
    "    AttributeInfo(\n",
    "        name=\"iso_code\",\n",
    "        description=\"The ISO country code of the country of the speaker\", \n",
    "        type=\"string\", \n",
    "    ),\n",
    "    AttributeInfo(\n",
    "        name=\"post\",\n",
    "        description=\"The position of the speaker\", \n",
    "        type=\"string\",\n",
    "    ),\n",
    "    AttributeInfo(\n",
    "        name=\"session\",\n",
    "        description=\"The session number\",\n",
    "        type=\"float\"\n",
    "    ),\n",
    "    AttributeInfo(\n",
    "        name=\"speaker\",\n",
    "        description=\"The name of the speaker\",\n",
    "        type=\"string\"\n",
    "    ),\n",
    "    AttributeInfo(\n",
    "        name=\"year\",\n",
    "        description=\"The year of the speech\",\n",
    "        type=\"float\"\n",
    "    ),\n",
    "]\n",
    "document_content_description = \"A snippet of a speech given at the United Nations General Debate\""
   ]
  },
  {
   "cell_type": "code",
   "execution_count": 30,
   "metadata": {},
   "outputs": [],
   "source": [
    "retriever = SelfQueryRetriever.from_llm(\n",
    "    llm,\n",
    "    db,\n",
    "    document_content_description,\n",
    "    metadata_field_info,\n",
    "    chain_kwargs={\"allowed_operators\": [\"AND\", \"OR\", \"GT\", \"LTE\"]},\n",
    "    verbose=True\n",
    ")"
   ]
  },
  {
   "cell_type": "code",
   "execution_count": 31,
   "metadata": {},
   "outputs": [
    {
     "name": "stderr",
     "output_type": "stream",
     "text": [
      "DEBUG:openai:message='Request to OpenAI API' method=post path=https://api.openai.com/v1/completions\n",
      "DEBUG:openai:api_version=None data='{\"prompt\": [\"Your goal is to structure the user\\'s query to match the request schema provided below.\\\\n\\\\n<< Structured Request Schema >>\\\\nWhen responding use a markdown code snippet with a JSON object formatted in the following schema:\\\\n\\\\n```json\\\\n{\\\\n    \\\\\"query\\\\\": string \\\\\\\\ text string to compare to document contents\\\\n    \\\\\"filter\\\\\": string \\\\\\\\ logical condition statement for filtering documents\\\\n}\\\\n```\\\\n\\\\nThe query string should contain only text that is expected to match the contents of documents. Any conditions in the filter should not be mentioned in the query as well.\\\\n\\\\nA logical condition statement is composed of one or more comparison and logical operation statements.\\\\n\\\\nA comparison statement takes the form: `comp(attr, val)`:\\\\n- `comp` (eq | lt | lte | gt | gte): comparator\\\\n- `attr` (string):  name of attribute to apply the comparison to\\\\n- `val` (string): is the comparison value\\\\n\\\\nA logical operation statement takes the form `op(statement1, statement2, ...)`:\\\\n- `op` (AND | OR | GT | LTE): logical operator\\\\n- `statement1`, `statement2`, ... (comparison statements or logical operation statements): one or more statements to apply the operation to\\\\n\\\\nMake sure that you only use the comparators and logical operators listed above and no others.\\\\nMake sure that filters only refer to attributes that exist in the data source.\\\\nMake sure that filters only use the attributed names with its function names if there are functions applied on them.\\\\nMake sure that filters only use format `YYYY-MM-DD` when handling timestamp data typed values.\\\\nMake sure that filters take into account the descriptions of attributes and only make comparisons that are feasible given the type of data being stored.\\\\nMake sure that filters are only used as needed. If there are no filters that should be applied return \\\\\"NO_FILTER\\\\\" for the filter value.\\\\n\\\\n<< Example 1. >>\\\\nData Source:\\\\n```json\\\\n{\\\\n    \\\\\"content\\\\\": \\\\\"Lyrics of a song\\\\\",\\\\n    \\\\\"attributes\\\\\": {\\\\n        \\\\\"artist\\\\\": {\\\\n            \\\\\"type\\\\\": \\\\\"string\\\\\",\\\\n            \\\\\"description\\\\\": \\\\\"Name of the song artist\\\\\"\\\\n        },\\\\n        \\\\\"length\\\\\": {\\\\n            \\\\\"type\\\\\": \\\\\"integer\\\\\",\\\\n            \\\\\"description\\\\\": \\\\\"Length of the song in seconds\\\\\"\\\\n        },\\\\n        \\\\\"genre\\\\\": {\\\\n            \\\\\"type\\\\\": \\\\\"string\\\\\",\\\\n            \\\\\"description\\\\\": \\\\\"The song genre, one of \\\\\"pop\\\\\", \\\\\"rock\\\\\" or \\\\\"rap\\\\\"\\\\\"\\\\n        }\\\\n    }\\\\n}\\\\n```\\\\n\\\\nUser Query:\\\\nWhat are songs by Taylor Swift or Katy Perry about teenage romance under 3 minutes long in the dance pop genre\\\\n\\\\nStructured Request:\\\\n```json\\\\n{\\\\n    \\\\\"query\\\\\": \\\\\"teenager love\\\\\",\\\\n    \\\\\"filter\\\\\": \\\\\"and(or(eq(\\\\\\\\\\\\\"artist\\\\\\\\\\\\\", \\\\\\\\\\\\\"Taylor Swift\\\\\\\\\\\\\"), eq(\\\\\\\\\\\\\"artist\\\\\\\\\\\\\", \\\\\\\\\\\\\"Katy Perry\\\\\\\\\\\\\")), lt(\\\\\\\\\\\\\"length\\\\\\\\\\\\\", 180), eq(\\\\\\\\\\\\\"genre\\\\\\\\\\\\\", \\\\\\\\\\\\\"pop\\\\\\\\\\\\\"))\\\\\"\\\\n}\\\\n```\\\\n\\\\n\\\\n<< Example 2. >>\\\\nData Source:\\\\n```json\\\\n{\\\\n    \\\\\"content\\\\\": \\\\\"Lyrics of a song\\\\\",\\\\n    \\\\\"attributes\\\\\": {\\\\n        \\\\\"artist\\\\\": {\\\\n            \\\\\"type\\\\\": \\\\\"string\\\\\",\\\\n            \\\\\"description\\\\\": \\\\\"Name of the song artist\\\\\"\\\\n        },\\\\n        \\\\\"length\\\\\": {\\\\n            \\\\\"type\\\\\": \\\\\"integer\\\\\",\\\\n            \\\\\"description\\\\\": \\\\\"Length of the song in seconds\\\\\"\\\\n        },\\\\n        \\\\\"genre\\\\\": {\\\\n            \\\\\"type\\\\\": \\\\\"string\\\\\",\\\\n            \\\\\"description\\\\\": \\\\\"The song genre, one of \\\\\"pop\\\\\", \\\\\"rock\\\\\" or \\\\\"rap\\\\\"\\\\\"\\\\n        }\\\\n    }\\\\n}\\\\n```\\\\n\\\\nUser Query:\\\\nWhat are songs that were not published on Spotify\\\\n\\\\nStructured Request:\\\\n```json\\\\n{\\\\n    \\\\\"query\\\\\": \\\\\"\\\\\",\\\\n    \\\\\"filter\\\\\": \\\\\"NO_FILTER\\\\\"\\\\n}\\\\n```\\\\n\\\\n\\\\n<< Example 3. >>\\\\nData Source:\\\\n```json\\\\n{\\\\n    \\\\\"content\\\\\": \\\\\"A snippet of a speech given at the United Nations General Debate\\\\\",\\\\n    \\\\\"attributes\\\\\": {\\\\n    \\\\\"country\\\\\": {\\\\n        \\\\\"description\\\\\": \\\\\"The country of the speaker\\\\\",\\\\n        \\\\\"type\\\\\": \\\\\"string\\\\\"\\\\n    },\\\\n    \\\\\"iso_code\\\\\": {\\\\n        \\\\\"description\\\\\": \\\\\"The ISO country code of the country of the speaker\\\\\",\\\\n        \\\\\"type\\\\\": \\\\\"string\\\\\"\\\\n    },\\\\n    \\\\\"post\\\\\": {\\\\n        \\\\\"description\\\\\": \\\\\"The position of the speaker\\\\\",\\\\n        \\\\\"type\\\\\": \\\\\"string\\\\\"\\\\n    },\\\\n    \\\\\"session\\\\\": {\\\\n        \\\\\"description\\\\\": \\\\\"The session number\\\\\",\\\\n        \\\\\"type\\\\\": \\\\\"float\\\\\"\\\\n    },\\\\n    \\\\\"speaker\\\\\": {\\\\n        \\\\\"description\\\\\": \\\\\"The name of the speaker\\\\\",\\\\n        \\\\\"type\\\\\": \\\\\"string\\\\\"\\\\n    },\\\\n    \\\\\"year\\\\\": {\\\\n        \\\\\"description\\\\\": \\\\\"The year of the speech\\\\\",\\\\n        \\\\\"type\\\\\": \\\\\"float\\\\\"\\\\n    }\\\\n}\\\\n}\\\\n```\\\\n\\\\nUser Query:\\\\nwhat was discussed about climate change in the 1980s\\\\n\\\\nStructured Request:\\\\n\"], \"model\": \"text-davinci-003\", \"temperature\": 0.7, \"max_tokens\": 256, \"top_p\": 1, \"frequency_penalty\": 0, \"presence_penalty\": 0, \"n\": 1, \"logit_bias\": {}}' message='Post details'\n",
      "DEBUG:urllib3.connectionpool:https://api.openai.com:443 \"POST /v1/completions HTTP/1.1\" 200 None\n",
      "DEBUG:openai:message='OpenAI API response' path=https://api.openai.com/v1/completions processing_ms=776 request_id=73dd6dcc51faabef3f0517fdfc307e17 response_code=200\n",
      "INFO:langchain.retrievers.self_query.base:Generated Query: query='climate change' filter=Comparison(comparator=<Comparator.LT: 'lt'>, attribute='year', value=1990) limit=None\n",
      "DEBUG:openai:message='Request to OpenAI API' method=post path=https://api.openai.com/v1/embeddings\n",
      "DEBUG:openai:api_version=None data='{\"input\": [[94874, 2349]], \"model\": \"text-embedding-ada-002\", \"encoding_format\": \"base64\"}' message='Post details'\n",
      "DEBUG:urllib3.connectionpool:https://api.openai.com:443 \"POST /v1/embeddings HTTP/1.1\" 200 None\n",
      "DEBUG:openai:message='OpenAI API response' path=https://api.openai.com/v1/embeddings processing_ms=16 request_id=53ee6dc9cb8d5f4d0bff88fa1950d6b4 response_code=200\n",
      "DEBUG:httpcore.connection:connect_tcp.started host='localhost' port=6333 local_address=None timeout=5.0 socket_options=None\n",
      "DEBUG:httpcore.connection:connect_tcp.complete return_value=<httpcore._backends.sync.SyncStream object at 0x11da1d1b0>\n",
      "DEBUG:httpcore.http11:send_request_headers.started request=<Request [b'POST']>\n",
      "DEBUG:httpcore.http11:send_request_headers.complete\n",
      "DEBUG:httpcore.http11:send_request_body.started request=<Request [b'POST']>\n",
      "DEBUG:httpcore.http11:send_request_body.complete\n",
      "DEBUG:httpcore.http11:receive_response_headers.started request=<Request [b'POST']>\n",
      "DEBUG:httpcore.http11:receive_response_headers.complete return_value=(b'HTTP/1.1', 200, b'OK', [(b'transfer-encoding', b'chunked'), (b'content-encoding', b'gzip'), (b'vary', b'accept-encoding, Origin, Access-Control-Request-Method, Access-Control-Request-Headers'), (b'content-type', b'application/json'), (b'date', b'Sun, 22 Oct 2023 22:45:24 GMT')])\n",
      "INFO:httpx:HTTP Request: POST http://localhost:6333/collections/speech_parts_subset/points/search \"HTTP/1.1 200 OK\"\n",
      "DEBUG:httpcore.http11:receive_response_body.started request=<Request [b'POST']>\n",
      "DEBUG:httpcore.http11:receive_response_body.complete\n",
      "DEBUG:httpcore.http11:response_closed.started\n",
      "DEBUG:httpcore.http11:response_closed.complete\n",
      "DEBUG:httpcore.connection:close.started\n",
      "DEBUG:httpcore.connection:close.complete\n"
     ]
    }
   ],
   "source": [
    "docs = retriever.get_relevant_documents(\"what was discussed about climate change in the 1980s\")"
   ]
  },
  {
   "cell_type": "code",
   "execution_count": 32,
   "metadata": {},
   "outputs": [
    {
     "data": {
      "text/plain": [
       "[]"
      ]
     },
     "execution_count": 32,
     "metadata": {},
     "output_type": "execute_result"
    }
   ],
   "source": [
    "docs"
   ]
  }
 ],
 "metadata": {
  "kernelspec": {
   "display_name": "ungd-rag",
   "language": "python",
   "name": "python3"
  },
  "language_info": {
   "codemirror_mode": {
    "name": "ipython",
    "version": 3
   },
   "file_extension": ".py",
   "mimetype": "text/x-python",
   "name": "python",
   "nbconvert_exporter": "python",
   "pygments_lexer": "ipython3",
   "version": "3.10.13"
  }
 },
 "nbformat": 4,
 "nbformat_minor": 2
}
